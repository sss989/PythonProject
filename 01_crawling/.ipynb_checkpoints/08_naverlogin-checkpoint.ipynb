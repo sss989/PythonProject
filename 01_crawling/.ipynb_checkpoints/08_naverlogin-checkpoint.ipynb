{
 "cells": [
  {
   "cell_type": "code",
   "execution_count": 6,
   "id": "03c3e6ab-a7d1-47cc-bd01-aa9282240ce3",
   "metadata": {
    "tags": []
   },
   "outputs": [],
   "source": [
    "from selenium import webdriver\n",
    "from selenium.webdriver.common.by import By\n",
    "from selenium.webdriver.common.keys import Keys\n",
    "import time"
   ]
  },
  {
   "cell_type": "code",
   "execution_count": 15,
   "id": "6aba8104-4a0f-46ae-9ade-e3fcba4a1482",
   "metadata": {
    "tags": []
   },
   "outputs": [
    {
     "name": "stdout",
     "output_type": "stream",
     "text": [
      "Requirement already satisfied: pyperclip in c:\\users\\admin\\appdata\\local\\programs\\python\\python311\\lib\\site-packages (1.8.2)\n"
     ]
    }
   ],
   "source": [
    "# !pip install pyperclip"
   ]
  },
  {
   "cell_type": "code",
   "execution_count": 7,
   "id": "3d2bf6d3-ddc3-4919-b1b6-784755680a81",
   "metadata": {
    "tags": []
   },
   "outputs": [],
   "source": [
    "id = 'llolzl'\n",
    "pw = 'ghkd2478@@'"
   ]
  },
  {
   "cell_type": "code",
   "execution_count": 9,
   "id": "1ee9aad8-51fa-4d39-9ed1-f96a66916657",
   "metadata": {
    "tags": []
   },
   "outputs": [],
   "source": [
    "url = 'https://nid.naver.com/nidlogin.login'\n",
    "driver = webdriver.Chrome()\n",
    "driver.get(url)\n",
    "time.sleep(5)\n",
    "\n",
    "# driver.find_element(By.ID,'id').send_keys(id)\n",
    "# driver.find_element(By.ID,'pw').send_keys(pw)\n",
    "\n",
    "ele_id = driver.execute_script(By.ID,'id')\n",
    "ele_id.click()\n",
    "pyperclip.copy(id)\n",
    "ele_id.send_keys(keys.CONTROL,'v')\n",
    "time.sleep(2)\n",
    "\n",
    "ele_pw = driver.execute_script(By.ID,'pw')\n",
    "ele_pw.click()\n",
    "pyperclip.copy(pw)\n",
    "ele_pw.send_keys(keys.CONTROL,'v')\n",
    "time.sleep(2)\n",
    "\n",
    "time.sleep(3)\n",
    "\n",
    "# driver.find_element(By.CLASS_NAME,'btn_login').click()\n",
    "driver.find_element(By.XPATH,'//*[@id=\"log.login\"]').click()"
   ]
  },
  {
   "cell_type": "code",
   "execution_count": 10,
   "id": "c995d610-326e-4a19-8300-43885dfdf28a",
   "metadata": {
    "tags": []
   },
   "outputs": [
    {
     "data": {
      "text/plain": [
       "\"document.getElementsByName('id')[0].value='llolzl'\""
      ]
     },
     "execution_count": 10,
     "metadata": {},
     "output_type": "execute_result"
    }
   ],
   "source": [
    "text = \"document.getElementsByName('id')[0].value='\"+id+\"'\"\n",
    "text"
   ]
  },
  {
   "cell_type": "code",
   "execution_count": 12,
   "id": "bd155b9d-5a2e-49f5-a443-f8306758b232",
   "metadata": {
    "tags": []
   },
   "outputs": [
    {
     "data": {
      "text/plain": [
       "\"document.getElementsByName('pw')[0].value='ghkd2478@@'\""
      ]
     },
     "execution_count": 12,
     "metadata": {},
     "output_type": "execute_result"
    }
   ],
   "source": [
    "text2 = \"document.getElementsByName('pw')[0].value='\"+pw+\"'\"\n",
    "text2"
   ]
  },
  {
   "cell_type": "code",
   "execution_count": null,
   "id": "3f4657eb-38da-49b7-bb66-f0d5af504896",
   "metadata": {},
   "outputs": [],
   "source": []
  }
 ],
 "metadata": {
  "kernelspec": {
   "display_name": "Python 3 (ipykernel)",
   "language": "python",
   "name": "python3"
  },
  "language_info": {
   "codemirror_mode": {
    "name": "ipython",
    "version": 3
   },
   "file_extension": ".py",
   "mimetype": "text/x-python",
   "name": "python",
   "nbconvert_exporter": "python",
   "pygments_lexer": "ipython3",
   "version": "3.11.1"
  }
 },
 "nbformat": 4,
 "nbformat_minor": 5
}
