{
 "cells": [
  {
   "cell_type": "code",
   "execution_count": 2,
   "id": "a2cba45a-6ef1-4760-b6e5-26f0d29ea818",
   "metadata": {
    "tags": []
   },
   "outputs": [],
   "source": [
    "# http://www.cgv.co.kr/movies/?lt=1&ft=0 \n",
    "#무비차트 영화 제목 크롤링"
   ]
  },
  {
   "cell_type": "code",
   "execution_count": 54,
   "id": "60ad4404-8146-4838-8b36-262aa49a6652",
   "metadata": {
    "tags": []
   },
   "outputs": [],
   "source": [
    "from urllib import request\n",
    "from bs4 import BeautifulSoup"
   ]
  },
  {
   "cell_type": "code",
   "execution_count": 55,
   "id": "b5ebdf51-a6dc-4f50-9f96-9b7af538ac12",
   "metadata": {
    "collapsed": true,
    "jupyter": {
     "outputs_hidden": true
    },
    "tags": []
   },
   "outputs": [
    {
     "name": "stdout",
     "output_type": "stream",
     "text": [
      "더 퍼스트 슬램덩크\n",
      "스즈메의 문단속\n",
      "던전 앤 드래곤-도적들의 명예\n",
      "아임 히어로 더 파이널\n",
      "파벨만스\n",
      "상견니\n",
      "찬란한 나의 복수\n",
      "오토라는 남자\n",
      "웅남이\n",
      "흐르다\n",
      "엘 카미노\n",
      "소울메이트\n",
      "귀멸의 칼날-상현집결, 그리고 도공 마을로\n",
      "이니셰린의 밴시\n",
      "에브리씽 에브리웨어 올 앳 원스+\n",
      "패왕별희 디 오리지널\n",
      "더 웨일\n",
      "멍뭉이\n",
      "[알베르게다이닝]엘 카미노(GV)\n"
     ]
    }
   ],
   "source": [
    "# 내코드\n",
    "url = 'http://www.cgv.co.kr/movies/'\n",
    "response = requests.get(url).text\n",
    "soup = BeautifulSoup(response, 'lxml')\n",
    "moviename = [] \n",
    "\n",
    "data = soup.select('strong.title') #tit 아래있는 a태그\n",
    "# print(data)\n",
    "for item in data:\n",
    "    print(item.string.strip()) # 공백제거해서 문자열 가져오기\n",
    "    moviename.append(item.string.strip())"
   ]
  },
  {
   "cell_type": "code",
   "execution_count": 98,
   "id": "ad376bf4-1233-4269-b8dc-e4051b41c977",
   "metadata": {
    "tags": []
   },
   "outputs": [
    {
     "name": "stdout",
     "output_type": "stream",
     "text": [
      "더 퍼스트 슬램덩크\n",
      "스즈메의 문단속\n",
      "던전 앤 드래곤-도적들의 명예\n",
      "아임 히어로 더 파이널\n",
      "파벨만스\n",
      "상견니\n",
      "찬란한 나의 복수\n",
      "오토라는 남자\n",
      "웅남이\n",
      "흐르다\n",
      "엘 카미노\n",
      "소울메이트\n",
      "귀멸의 칼날-상현집결, 그리고 도공 마을로\n",
      "이니셰린의 밴시\n",
      "에브리씽 에브리웨어 올 앳 원스+\n",
      "패왕별희 디 오리지널\n",
      "더 웨일\n",
      "멍뭉이\n",
      "[알베르게다이닝]엘 카미노(GV)\n"
     ]
    }
   ],
   "source": [
    "# 슨생님 코드\n",
    "url = 'http://www.cgv.co.kr/movies/'\n",
    "response = request.urlopen(url)\n",
    "soup = BeautifulSoup(response, 'lxml')\n",
    "# print(soup)\n",
    "result = soup.select('strong.title')\n",
    "# print(result)\n",
    "for item in result:\n",
    "    # print(item.stirng)\n",
    "    print(item.text)"
   ]
  },
  {
   "cell_type": "code",
   "execution_count": 57,
   "id": "f88eb827-9a66-4b47-ae6b-e4cfac290543",
   "metadata": {
    "tags": []
   },
   "outputs": [],
   "source": [
    "# https://music.bugs.co.kr/chart\n",
    "# 벅스차트 곡이름, 아티스트 크롤링"
   ]
  },
  {
   "cell_type": "code",
   "execution_count": 60,
   "id": "eaebed65-a132-41ae-89a1-c9dc1f9ba1e3",
   "metadata": {
    "tags": []
   },
   "outputs": [],
   "source": [
    "import requests\n",
    "from urllib import request\n",
    "from bs4 import BeautifulSoup\n"
   ]
  },
  {
   "cell_type": "code",
   "execution_count": 74,
   "id": "06465109-66f2-4dde-92be-64fc4ecb4c33",
   "metadata": {
    "jupyter": {
     "source_hidden": true
    },
    "tags": []
   },
   "outputs": [
    {
     "name": "stdout",
     "output_type": "stream",
     "text": [
      "[('Kitsch', 'IVE (아이브)'), ('꽃', '지수(JISOO)'), ('Zero', 'NewJeans'), ('Ditto', 'NewJeans'), ('Hype Boy', 'NewJeans'), ('Teddy Bear', 'STAYC(스테이씨)'), ('Love Me Like This', 'NMIXX'), ('OMG', 'NewJeans'), ('건물 사이에 피어난 장미 (Rose Blossom)', 'H1-KEY (하이키)'), ('CHRISTIAN', '지올팍(Zior Park)'), ('Attention', 'NewJeans'), ('파이팅 해야지 (Feat. 이영지)', '부석순(SEVENTEEN)'), ('밤이 무서워요 (Lonely Night)', '주주 시크릿'), ('I Don’t Think That I Like Her', 'Charlie Puth(찰리 푸스)'), ('사건의 지평선', '윤하(Younha/ユンナ)'), ('ANTIFRAGILE', 'LE SSERAFIM (르세라핌)'), ('After LIKE', 'IVE (아이브)'), ('LOVE DIVE', 'IVE (아이브)'), ('Poppy (Korean Ver.)', 'STAYC(스테이씨)'), ('심(心)', 'DK(디셈버)'), ('Dangerously', 'Charlie Puth(찰리 푸스)'), ('한 페이지가 될 수 있게', 'DAY6 (데이식스)'), ('VIBE (feat. Jimin of BTS)', '태양'), ('오르트구름', '윤하(Younha/ユンナ)'), ('Nostalgia', '우디(Woody)'), ('When I Get Old', 'Christopher(크리스토퍼)'), ('Like Crazy', 'Christopher(크리스토퍼)'), ('Young, Dumb, Stupid', '지민'), ('Candy', 'NMIXX'), ('사랑인가 봐', 'NCT DREAM'), ('Shut Down', '멜로망스(MeloMance)'), ('Unholy', 'BLACKPINK'), ('Pink Venom', 'Sam Smith(샘 스미스)'), ('FEARLESS', 'Sam Smith(샘 스미스)'), ('너의 모든 순간', 'BLACKPINK'), ('Cookie', 'LE SSERAFIM (르세라핌)'), (\"That's Hilarious\", '성시경'), ('벚꽃 엔딩', 'NewJeans'), ('봄 사랑 벚꽃 말고', 'Charlie Puth(찰리 푸스)'), ('STAY', '버스커 버스커(Busker Busker)'), ('That’s Not How This Works (feat. Dan + Shay)', '하이포(HIGH4)'), ('ELEVEN', '하이포(HIGH4)'), ('Say I Love You', 'The Kid LAROI'), ('WHEN I MOVE', 'The Kid LAROI'), ('Feel My Rhythm', 'Charlie Puth(찰리 푸스)'), ('그라데이션', 'IVE (아이브)'), ('Nxde', '우디(Woody)'), ('Rising', '카라(Kara)'), ('정이라고 하자 (Feat. 10CM)', 'Red Velvet (레드벨벳)'), ('Rush Hour (Feat. j-hope of BTS)', '10CM'), ('TOMBOY', '(여자)아이들'), ('다정히 내 이름을 부르면', 'tripleS (트리플에스)'), ('해요 (2022)', 'BIG Naughty (서동현)'), ('Off My Face', 'Crush'), ('모든 날, 모든 순간 (Every day, Every Moment)', '(여자)아이들'), ('새삥 (Prod. ZICO) (Feat. 호미들)', '경서예지'), ('NOT SORRY (Feat. pH-1) (Prod. by Slom)', '경서예지'), ('Monologue', '#안녕'), ('그때 그 순간 그대로 (그그그)', 'Justin Bieber(저스틴 비버)'), ('Dreamers [Music from the FIFA World Cup Qatar 2022 Official Soundtrack] (feat. FIFA Sound)', '폴킴(Paul Kim)'), ('취중고백', '지코 (ZICO)'), ('SET ME FREE', '이영지'), ('strawberry moon', '테이(Tei)'), ('Impurities', 'WSG워너비 (가야G)'), ('주저하는 연인들을 위해', '정국'), ('결국엔 너에게 닿아서', '정국'), ('봄날', '김민석 (멜로망스)'), ('사랑은 늘 도망가', 'TWICE (트와이스)'), ('Expectations', '아이유(IU)'), ('INVU', 'LE SSERAFIM (르세라핌)'), ('LOVE me', '잔나비'), ('봄여름가을겨울 (Still Life)', 'WSG워너비 (가야G)'), ('도깨비불 (Illusion)', '방탄소년단'), ('나의 X에게', '임영웅'), ('Love story', 'Anne-Marie(앤 마리)'), ('친구로 지내다 보면 (Feat. 김민석 of 멜로망스)', 'Anne-Marie(앤 마리)'), ('Hurt', '태연 (TAEYEON)'), ('자격지심 (Feat. ZICO)', \"BE'O (비오)\"), ('Cupid', 'BIGBANG (빅뱅)'), ('내가 아니라도', 'aespa'), ('보고싶었어', '경서'), ('그댄 행복에 살텐데 (2022)', '볼빨간사춘기'), ('All Eyes On Me', 'BIG Naughty (서동현)'), ('Left and Right (Feat. Jung Kook of BTS)', 'NewJeans'), ('Dynamite', \"BE'O (비오)\"), ('팡파레', 'FIFTY FIFTY'), (\"I Ain't Worried\", '주호'), ('Next Level', 'WSG워너비(4FIRE)'), ('Made You Look', '최유리'), ('딱 10CM만', '지수(JISOO)'), ('우린 그렇게 사랑해서', 'Charlie Puth(찰리 푸스)'), ('아모르 파티', 'Charlie Puth(찰리 푸스)'), ('마지막 사랑', '방탄소년단'), ('그대를 알고', '다비치'), ('Anti-Hero', 'OneRepublic(원리퍼블릭)'), ('사랑하지 않아서 그랬어', 'aespa'), ('사랑하기 싫어', 'Meghan Trainor(메간 트레이너)'), ('Set Me Free Pt.2', '10CM'), ('혼자서 걸어요 (Prod. by 나얼)', '10CM'), ('떠나보낼 준비해 둘걸 그랬어', '강민경')]\n"
     ]
    }
   ],
   "source": [
    "# 내코드(길이안맞아서 오류남 ㅠㅠ)\n",
    "url = 'https://music.bugs.co.kr/chart/'\n",
    "r = requests.get(url).text\n",
    "soup = BeautifulSoup(r, 'lxml')\n",
    "songname = []\n",
    "artist = []\n",
    "\n",
    "# #노래 제목가져오기\n",
    "data = soup.select('p.title > a') #tit 아래있는 a태그\n",
    "# print(data)\n",
    "for item in data:\n",
    "    # print(item.string.strip()) # 공백제거해서 문자열 가져오기\n",
    "    songname.append(item.string.strip())\n",
    "    \n",
    "#가수 가져오기\n",
    "data = soup.select('p.artist > a')\n",
    "# print(data)\n",
    "for item in data:\n",
    "    # print(item.string.strip()) # 공백제거해서 문자열 가져오기\n",
    "    artist.append(item.string.strip())\n",
    "# print(len(songname),len(artist))\n",
    "items = list(zip(songname, artist))\n",
    "print(items)"
   ]
  },
  {
   "cell_type": "code",
   "execution_count": 87,
   "id": "47b78f3d-cd9d-460d-a3e2-cfc99dd93890",
   "metadata": {
    "tags": []
   },
   "outputs": [
    {
     "name": "stdout",
     "output_type": "stream",
     "text": [
      "100\n"
     ]
    }
   ],
   "source": [
    "url = 'https://music.bugs.co.kr/chart/'\n",
    "response = request.urlopen(url)\n",
    "soup = BeautifulSoup(response, 'lxml')\n",
    "\n",
    "title_list = []\n",
    "artist_list = []\n",
    "\n",
    "title = soup.select('p.title > a')\n",
    "# print(title)\n",
    "for item in title:\n",
    "    # print(item.string)\n",
    "    title_list.append(item.string)\n",
    "\n",
    "artist = soup.select('p.artist')\n",
    "print(len(artist))\n",
    "for item in artist:\n",
    "    # print(item.text)\n",
    "    artist_list.append(item.text.strip())"
   ]
  },
  {
   "cell_type": "code",
   "execution_count": 88,
   "id": "d5be65b5-9274-4663-b80c-f68771a84754",
   "metadata": {
    "tags": []
   },
   "outputs": [
    {
     "data": {
      "text/plain": [
       "(100, 100)"
      ]
     },
     "execution_count": 88,
     "metadata": {},
     "output_type": "execute_result"
    }
   ],
   "source": [
    "len(title_list), len(artist_list)"
   ]
  },
  {
   "cell_type": "code",
   "execution_count": 89,
   "id": "82f4458b-bdc8-4273-83af-2e7c7c5cc2cd",
   "metadata": {
    "collapsed": true,
    "jupyter": {
     "outputs_hidden": true
    },
    "tags": []
   },
   "outputs": [
    {
     "data": {
      "text/plain": [
       "['IVE (아이브)',\n",
       " '지수(JISOO)',\n",
       " 'NewJeans',\n",
       " 'NewJeans',\n",
       " 'NewJeans',\n",
       " 'STAYC(스테이씨)',\n",
       " 'NMIXX',\n",
       " 'NewJeans',\n",
       " 'H1-KEY (하이키)',\n",
       " '지올팍(Zior Park)',\n",
       " 'NewJeans',\n",
       " '부석순(SEVENTEEN)',\n",
       " '주주 시크릿',\n",
       " 'Charlie Puth(찰리 푸스)',\n",
       " '윤하(Younha/ユンナ)',\n",
       " 'LE SSERAFIM (르세라핌)',\n",
       " 'IVE (아이브)',\n",
       " 'IVE (아이브)',\n",
       " 'STAYC(스테이씨)',\n",
       " 'DK(디셈버)',\n",
       " 'Charlie Puth(찰리 푸스)',\n",
       " 'DAY6 (데이식스)',\n",
       " '태양',\n",
       " '윤하(Younha/ユンナ)',\n",
       " '우디(Woody)',\n",
       " 'Christopher(크리스토퍼)\\n\\n\\r\\nChristopher(크리스토퍼)',\n",
       " '지민',\n",
       " 'NMIXX',\n",
       " 'NCT DREAM',\n",
       " '멜로망스(MeloMance)',\n",
       " 'BLACKPINK',\n",
       " 'Sam Smith(샘 스미스)\\n\\n\\r\\nSam Smith(샘 스미스)',\n",
       " 'BLACKPINK',\n",
       " 'LE SSERAFIM (르세라핌)',\n",
       " '성시경',\n",
       " 'NewJeans',\n",
       " 'Charlie Puth(찰리 푸스)',\n",
       " '버스커 버스커(Busker Busker)',\n",
       " '하이포(HIGH4)\\n\\n\\r\\n하이포(HIGH4)',\n",
       " 'The Kid LAROI\\n\\n\\r\\nThe Kid LAROI',\n",
       " 'Charlie Puth(찰리 푸스)',\n",
       " 'IVE (아이브)',\n",
       " '우디(Woody)',\n",
       " '카라(Kara)',\n",
       " 'Red Velvet (레드벨벳)',\n",
       " '10CM',\n",
       " '(여자)아이들',\n",
       " 'tripleS (트리플에스)',\n",
       " 'BIG Naughty (서동현)',\n",
       " 'Crush',\n",
       " '(여자)아이들',\n",
       " '경서예지\\n\\n\\r\\n경서예지',\n",
       " '#안녕',\n",
       " 'Justin Bieber(저스틴 비버)',\n",
       " '폴킴(Paul Kim)',\n",
       " '지코 (ZICO)',\n",
       " '이영지',\n",
       " '테이(Tei)',\n",
       " 'WSG워너비 (가야G)',\n",
       " '정국\\n\\n\\r\\n정국',\n",
       " '김민석 (멜로망스)',\n",
       " 'TWICE (트와이스)',\n",
       " '아이유(IU)',\n",
       " 'LE SSERAFIM (르세라핌)',\n",
       " '잔나비',\n",
       " 'WSG워너비 (가야G)',\n",
       " '방탄소년단',\n",
       " '임영웅',\n",
       " 'Anne-Marie(앤 마리)\\n\\n\\r\\nAnne-Marie(앤 마리)',\n",
       " '태연 (TAEYEON)',\n",
       " \"BE'O (비오)\",\n",
       " 'BIGBANG (빅뱅)',\n",
       " 'aespa',\n",
       " '경서',\n",
       " '볼빨간사춘기',\n",
       " 'BIG Naughty (서동현)',\n",
       " 'NewJeans',\n",
       " \"BE'O (비오)\",\n",
       " 'FIFTY FIFTY',\n",
       " '주호',\n",
       " 'WSG워너비(4FIRE)',\n",
       " '최유리',\n",
       " '지수(JISOO)',\n",
       " 'Charlie Puth(찰리 푸스)\\n\\n\\r\\nCharlie Puth(찰리 푸스)',\n",
       " '방탄소년단',\n",
       " '다비치',\n",
       " 'OneRepublic(원리퍼블릭)',\n",
       " 'aespa',\n",
       " 'Meghan Trainor(메간 트레이너)',\n",
       " '10CM\\n\\n\\r\\n10CM',\n",
       " '강민경\\n\\n\\r\\n강민경',\n",
       " '이홍기 (FT아일랜드)',\n",
       " '신예영',\n",
       " '송하예',\n",
       " 'Taylor Swift(테일러 스위프트)',\n",
       " '임한별',\n",
       " '지아(Zia)',\n",
       " '지민',\n",
       " '태연 (TAEYEON)',\n",
       " '임한별']"
      ]
     },
     "execution_count": 89,
     "metadata": {},
     "output_type": "execute_result"
    }
   ],
   "source": [
    "artist_list"
   ]
  },
  {
   "cell_type": "code",
   "execution_count": 91,
   "id": "5f68a560-b1ee-49b4-a715-58aef5380039",
   "metadata": {
    "tags": []
   },
   "outputs": [],
   "source": [
    "artist_list_final = []\n",
    "for item in artist_list:\n",
    "    # print(item.replace('\\n\\n\\r\\n',','))\n",
    "    # print(item.replace('\\n\\n\\r\\n',',').split(',')[0])\n",
    "    artist_list_final.append(item.replace('\\n\\n\\r\\n',',').split(',')[0])"
   ]
  },
  {
   "cell_type": "code",
   "execution_count": 94,
   "id": "22cda9ae-2339-4bfa-9414-e18a064282e9",
   "metadata": {
    "collapsed": true,
    "jupyter": {
     "outputs_hidden": true
    },
    "tags": []
   },
   "outputs": [
    {
     "name": "stdout",
     "output_type": "stream",
     "text": [
      "[('Kitsch', 'IVE (아이브)'), ('꽃', '지수(JISOO)'), ('Zero', 'NewJeans'), ('Ditto', 'NewJeans'), ('Hype Boy', 'NewJeans'), ('Teddy Bear', 'STAYC(스테이씨)'), ('Love Me Like This', 'NMIXX'), ('OMG', 'NewJeans'), ('건물 사이에 피어난 장미 (Rose Blossom)', 'H1-KEY (하이키)'), ('CHRISTIAN', '지올팍(Zior Park)'), ('Attention', 'NewJeans'), ('파이팅 해야지 (Feat. 이영지)', '부석순(SEVENTEEN)'), ('밤이 무서워요 (Lonely Night)', '주주 시크릿'), ('I Don’t Think That I Like Her', 'Charlie Puth(찰리 푸스)'), ('사건의 지평선', '윤하(Younha/ユンナ)'), ('ANTIFRAGILE', 'LE SSERAFIM (르세라핌)'), ('After LIKE', 'IVE (아이브)'), ('LOVE DIVE', 'IVE (아이브)'), ('Poppy (Korean Ver.)', 'STAYC(스테이씨)'), ('심(心)', 'DK(디셈버)'), ('Dangerously', 'Charlie Puth(찰리 푸스)'), ('한 페이지가 될 수 있게', 'DAY6 (데이식스)'), ('VIBE (feat. Jimin of BTS)', '태양'), ('오르트구름', '윤하(Younha/ユンナ)'), ('Nostalgia', '우디(Woody)'), ('When I Get Old', 'Christopher(크리스토퍼)'), ('Like Crazy', '지민'), ('Young, Dumb, Stupid', 'NMIXX'), ('Candy', 'NCT DREAM'), ('사랑인가 봐', '멜로망스(MeloMance)'), ('Shut Down', 'BLACKPINK'), ('Unholy', 'Sam Smith(샘 스미스)'), ('Pink Venom', 'BLACKPINK'), ('FEARLESS', 'LE SSERAFIM (르세라핌)'), ('너의 모든 순간', '성시경'), ('Cookie', 'NewJeans'), (\"That's Hilarious\", 'Charlie Puth(찰리 푸스)'), ('벚꽃 엔딩', '버스커 버스커(Busker Busker)'), ('봄 사랑 벚꽃 말고', '하이포(HIGH4)'), ('STAY', 'The Kid LAROI'), ('That’s Not How This Works (feat. Dan + Shay)', 'Charlie Puth(찰리 푸스)'), ('ELEVEN', 'IVE (아이브)'), ('Say I Love You', '우디(Woody)'), ('WHEN I MOVE', '카라(Kara)'), ('Feel My Rhythm', 'Red Velvet (레드벨벳)'), ('그라데이션', '10CM'), ('Nxde', '(여자)아이들'), ('Rising', 'tripleS (트리플에스)'), ('정이라고 하자 (Feat. 10CM)', 'BIG Naughty (서동현)'), ('Rush Hour (Feat. j-hope of BTS)', 'Crush'), ('TOMBOY', '(여자)아이들'), ('다정히 내 이름을 부르면', '경서예지'), ('해요 (2022)', '#안녕'), ('Off My Face', 'Justin Bieber(저스틴 비버)'), ('모든 날, 모든 순간 (Every day, Every Moment)', '폴킴(Paul Kim)'), ('새삥 (Prod. ZICO) (Feat. 호미들)', '지코 (ZICO)'), ('NOT SORRY (Feat. pH-1) (Prod. by Slom)', '이영지'), ('Monologue', '테이(Tei)'), ('그때 그 순간 그대로 (그그그)', 'WSG워너비 (가야G)'), ('Dreamers [Music from the FIFA World Cup Qatar 2022 Official Soundtrack] (feat. FIFA Sound)', '정국'), ('취중고백', '김민석 (멜로망스)'), ('SET ME FREE', 'TWICE (트와이스)'), ('strawberry moon', '아이유(IU)'), ('Impurities', 'LE SSERAFIM (르세라핌)'), ('주저하는 연인들을 위해', '잔나비'), ('결국엔 너에게 닿아서', 'WSG워너비 (가야G)'), ('봄날', '방탄소년단'), ('사랑은 늘 도망가', '임영웅'), ('Expectations', 'Anne-Marie(앤 마리)'), ('INVU', '태연 (TAEYEON)'), ('LOVE me', \"BE'O (비오)\"), ('봄여름가을겨울 (Still Life)', 'BIGBANG (빅뱅)'), ('도깨비불 (Illusion)', 'aespa'), ('나의 X에게', '경서'), ('Love story', '볼빨간사춘기'), ('친구로 지내다 보면 (Feat. 김민석 of 멜로망스)', 'BIG Naughty (서동현)'), ('Hurt', 'NewJeans'), ('자격지심 (Feat. ZICO)', \"BE'O (비오)\"), ('Cupid', 'FIFTY FIFTY'), ('내가 아니라도', '주호'), ('보고싶었어', 'WSG워너비(4FIRE)'), ('그댄 행복에 살텐데 (2022)', '최유리'), ('All Eyes On Me', '지수(JISOO)'), ('Left and Right (Feat. Jung Kook of BTS)', 'Charlie Puth(찰리 푸스)'), ('Dynamite', '방탄소년단'), ('팡파레', '다비치'), (\"I Ain't Worried\", 'OneRepublic(원리퍼블릭)'), ('Next Level', 'aespa'), ('Made You Look', 'Meghan Trainor(메간 트레이너)'), ('딱 10CM만', '10CM'), ('우린 그렇게 사랑해서', '강민경'), ('아모르 파티', '이홍기 (FT아일랜드)'), ('마지막 사랑', '신예영'), ('그대를 알고', '송하예'), ('Anti-Hero', 'Taylor Swift(테일러 스위프트)'), ('사랑하지 않아서 그랬어', '임한별'), ('사랑하기 싫어', '지아(Zia)'), ('Set Me Free Pt.2', '지민'), ('혼자서 걸어요 (Prod. by 나얼)', '태연 (TAEYEON)'), ('떠나보낼 준비해 둘걸 그랬어', '임한별')]\n"
     ]
    }
   ],
   "source": [
    "result = list(zip(title_list,artist_list_final))\n",
    "print(result)"
   ]
  },
  {
   "cell_type": "code",
   "execution_count": 95,
   "id": "c2ce237f-0208-4779-ad1e-4f2449f4e8a4",
   "metadata": {
    "tags": []
   },
   "outputs": [
    {
     "name": "stdout",
     "output_type": "stream",
     "text": [
      "[]\n"
     ]
    }
   ],
   "source": []
  },
  {
   "cell_type": "code",
   "execution_count": null,
   "id": "77b22e1b-54e3-47e6-9a46-e26a451c342f",
   "metadata": {},
   "outputs": [],
   "source": []
  }
 ],
 "metadata": {
  "kernelspec": {
   "display_name": "Python 3 (ipykernel)",
   "language": "python",
   "name": "python3"
  },
  "language_info": {
   "codemirror_mode": {
    "name": "ipython",
    "version": 3
   },
   "file_extension": ".py",
   "mimetype": "text/x-python",
   "name": "python",
   "nbconvert_exporter": "python",
   "pygments_lexer": "ipython3",
   "version": "3.11.1"
  }
 },
 "nbformat": 4,
 "nbformat_minor": 5
}
