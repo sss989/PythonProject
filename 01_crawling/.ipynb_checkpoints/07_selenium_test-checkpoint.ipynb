{
 "cells": [
  {
   "cell_type": "code",
   "execution_count": 1,
   "id": "16342c85-4875-4280-ab53-fb118329de2f",
   "metadata": {
    "tags": []
   },
   "outputs": [],
   "source": [
    "from selenium import webdriver\n",
    "import time"
   ]
  },
  {
   "cell_type": "code",
   "execution_count": 9,
   "id": "cc4b8cd4-0043-463a-b4aa-88700fee9b6f",
   "metadata": {
    "tags": []
   },
   "outputs": [],
   "source": [
    "driver = webdriver.Chrome()\n",
    "driver.get('https://www.naver.com')\n",
    "driver.implicitly_wait(10)\n",
    "time.sleep(5)\n",
    "driver.get('http://www.google.co.kr')\n",
    "time.sleep(5)\n",
    "driver.get('http://www.daum.net')\n",
    "time.sleep(5)\n",
    "driver.back()\n",
    "driver.fullscreen_window()\n",
    "time.sleep(3)\n",
    "driver.back()\n",
    "driver.set_window_rect(100,100,800,800)\n",
    "time.sleep(3)\n",
    "driver.forward()\n",
    "time.sleep(3)\n",
    "driver.quit()"
   ]
  },
  {
   "cell_type": "code",
   "execution_count": 5,
   "id": "80933739-5cfd-4a4e-929c-3033edb22fe6",
   "metadata": {
    "tags": []
   },
   "outputs": [
    {
     "data": {
      "text/plain": [
       "'4.8.3'"
      ]
     },
     "execution_count": 5,
     "metadata": {},
     "output_type": "execute_result"
    }
   ],
   "source": [
    "import selenium\n",
    "selenium.__version__"
   ]
  },
  {
   "cell_type": "code",
   "execution_count": 10,
   "id": "73fcbdde-4878-4c33-8f05-91651bfcda01",
   "metadata": {
    "tags": []
   },
   "outputs": [],
   "source": [
    "from selenium import webdriver\n",
    "import time\n",
    "from selenium.webdriver.common.by import By\n",
    "from selenium.webdriver.common.keys import Keys"
   ]
  },
  {
   "cell_type": "code",
   "execution_count": 17,
   "id": "2382eddf-5b98-4af7-81b7-38e49d888f07",
   "metadata": {
    "tags": []
   },
   "outputs": [],
   "source": [
    "driver = webdriver.Chrome()\n",
    "driver.get('https://www.naver.com')\n",
    "time.sleep(5)\n",
    "search = driver.find_element(By.ID,'query')\n",
    "# print(type(search))\n",
    "# print(search)\n",
    "search.send_keys('봄')\n",
    "search.send_keys(Keys.ENTER)\n",
    "item = driver.find_element(By.CSS_SELECTOR,'ul.base > li.menu:nth-child(2)')\n",
    "item.click()"
   ]
  },
  {
   "cell_type": "code",
   "execution_count": null,
   "id": "b690c793-8a60-41ca-a3e9-b38d9ad2cbba",
   "metadata": {},
   "outputs": [],
   "source": []
  }
 ],
 "metadata": {
  "kernelspec": {
   "display_name": "Python 3 (ipykernel)",
   "language": "python",
   "name": "python3"
  },
  "language_info": {
   "codemirror_mode": {
    "name": "ipython",
    "version": 3
   },
   "file_extension": ".py",
   "mimetype": "text/x-python",
   "name": "python",
   "nbconvert_exporter": "python",
   "pygments_lexer": "ipython3",
   "version": "3.11.1"
  }
 },
 "nbformat": 4,
 "nbformat_minor": 5
}
