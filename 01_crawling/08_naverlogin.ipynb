{
 "cells": [
  {
   "cell_type": "code",
   "execution_count": 5,
   "id": "03c3e6ab-a7d1-47cc-bd01-aa9282240ce3",
   "metadata": {
    "tags": []
   },
   "outputs": [],
   "source": [
    "from selenium import webdriver\n",
    "from selenium.webdriver.common.by import By\n",
    "from selenium.webdriver.common.keys import Keys\n",
    "import time"
   ]
  },
  {
   "cell_type": "code",
   "execution_count": 6,
   "id": "6aba8104-4a0f-46ae-9ade-e3fcba4a1482",
   "metadata": {
    "tags": []
   },
   "outputs": [],
   "source": [
    "# !pip install pyperclip"
   ]
  },
  {
   "cell_type": "code",
   "execution_count": 7,
   "id": "3d2bf6d3-ddc3-4919-b1b6-784755680a81",
   "metadata": {
    "tags": []
   },
   "outputs": [],
   "source": [
    "id = 'sss_9898'\n",
    "pw = 'thdus98@'"
   ]
  },
  {
   "cell_type": "code",
   "execution_count": 9,
   "id": "1ee9aad8-51fa-4d39-9ed1-f96a66916657",
   "metadata": {
    "tags": []
   },
   "outputs": [
    {
     "ename": "AttributeError",
     "evalue": "'NoneType' object has no attribute 'click'",
     "output_type": "error",
     "traceback": [
      "\u001b[1;31m---------------------------------------------------------------------------\u001b[0m",
      "\u001b[1;31mAttributeError\u001b[0m                            Traceback (most recent call last)",
      "Cell \u001b[1;32mIn[9], line 10\u001b[0m\n\u001b[0;32m      6\u001b[0m \u001b[38;5;66;03m# driver.find_element(By.ID,'id').send_keys(id)\u001b[39;00m\n\u001b[0;32m      7\u001b[0m \u001b[38;5;66;03m# driver.find_element(By.ID,'pw').send_keys(pw)\u001b[39;00m\n\u001b[0;32m      9\u001b[0m ele_id \u001b[38;5;241m=\u001b[39m driver\u001b[38;5;241m.\u001b[39mexecute_script(By\u001b[38;5;241m.\u001b[39mID,\u001b[38;5;124m'\u001b[39m\u001b[38;5;124mid\u001b[39m\u001b[38;5;124m'\u001b[39m)\n\u001b[1;32m---> 10\u001b[0m \u001b[43mele_id\u001b[49m\u001b[38;5;241;43m.\u001b[39;49m\u001b[43mclick\u001b[49m()\n\u001b[0;32m     11\u001b[0m pyperclip\u001b[38;5;241m.\u001b[39mcopy(\u001b[38;5;28mid\u001b[39m)\n\u001b[0;32m     12\u001b[0m ele_id\u001b[38;5;241m.\u001b[39msend_keys(keys\u001b[38;5;241m.\u001b[39mCONTROL,\u001b[38;5;124m'\u001b[39m\u001b[38;5;124mv\u001b[39m\u001b[38;5;124m'\u001b[39m)\n",
      "\u001b[1;31mAttributeError\u001b[0m: 'NoneType' object has no attribute 'click'"
     ]
    }
   ],
   "source": [
    "url = 'https://nid.naver.com/nidlogin.login'\n",
    "driver = webdriver.Chrome()\n",
    "driver.get(url)\n",
    "time.sleep(5)\n",
    "\n",
    "# driver.find_element(By.ID,'id').send_keys(id)\n",
    "# driver.find_element(By.ID,'pw').send_keys(pw)\n",
    "\n",
    "ele_id = driver.execute_script(By.ID,'id')\n",
    "ele_id.click()\n",
    "pyperclip.copy(id)\n",
    "ele_id.send_keys(keys.CONTROL,'v')\n",
    "time.sleep(2)\n",
    "\n",
    "ele_pw = driver.execute_script(By.ID,'pw')\n",
    "ele_pw.click()\n",
    "pyperclip.copy(pw)\n",
    "ele_pw.send_keys(keys.CONTROL,'v')\n",
    "time.sleep(2)\n",
    "\n",
    "time.sleep(3)\n",
    "\n",
    "# driver.find_element(By.CLASS_NAME,'btn_login').click()\n",
    "driver.find_element(By.XPATH,'//*[@id=\"log.login\"]').click()"
   ]
  },
  {
   "cell_type": "code",
   "execution_count": null,
   "id": "c995d610-326e-4a19-8300-43885dfdf28a",
   "metadata": {
    "tags": []
   },
   "outputs": [],
   "source": [
    "text = \"document.getElementsByName('id')[0].value='\"+id+\"'\"\n",
    "text"
   ]
  },
  {
   "cell_type": "code",
   "execution_count": 12,
   "id": "bd155b9d-5a2e-49f5-a443-f8306758b232",
   "metadata": {
    "tags": []
   },
   "outputs": [
    {
     "data": {
      "text/plain": [
       "\"document.getElementsByName('pw')[0].value='ghkd2478@@'\""
      ]
     },
     "execution_count": 12,
     "metadata": {},
     "output_type": "execute_result"
    }
   ],
   "source": [
    "text2 = \"document.getElementsByName('pw')[0].value='\"+pw+\"'\"\n",
    "text2"
   ]
  },
  {
   "cell_type": "code",
   "execution_count": null,
   "id": "3f4657eb-38da-49b7-bb66-f0d5af504896",
   "metadata": {},
   "outputs": [],
   "source": []
  }
 ],
 "metadata": {
  "kernelspec": {
   "display_name": "Python 3 (ipykernel)",
   "language": "python",
   "name": "python3"
  },
  "language_info": {
   "codemirror_mode": {
    "name": "ipython",
    "version": 3
   },
   "file_extension": ".py",
   "mimetype": "text/x-python",
   "name": "python",
   "nbconvert_exporter": "python",
   "pygments_lexer": "ipython3",
   "version": "3.11.1"
  }
 },
 "nbformat": 4,
 "nbformat_minor": 5
}
