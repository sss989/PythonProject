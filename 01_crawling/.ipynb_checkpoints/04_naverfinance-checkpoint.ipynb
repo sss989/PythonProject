{
 "cells": [
  {
   "cell_type": "code",
   "execution_count": 1,
   "id": "b8699140-049e-4e9e-8062-1009148c8e8d",
   "metadata": {
    "tags": []
   },
   "outputs": [],
   "source": [
    "# https://finance.naver.com/marketindex/exchangeList.naver"
   ]
  },
  {
   "cell_type": "code",
   "execution_count": 3,
   "id": "52ff7b6d-3ff6-4185-bd74-294172d8352f",
   "metadata": {
    "tags": []
   },
   "outputs": [],
   "source": [
    "import requests\n",
    "from bs4 import BeautifulSoup"
   ]
  },
  {
   "cell_type": "code",
   "execution_count": 14,
   "id": "852fb8d7-b669-4dfd-a472-4699a3ac111f",
   "metadata": {
    "tags": []
   },
   "outputs": [
    {
     "name": "stdout",
     "output_type": "stream",
     "text": [
      "58 58\n",
      "[('미국 USD', 1316.5), ('유럽연합 EUR', 1426.69), ('일본 JPY (100엔)', 985.29), ('중국 CNY', 190.86), ('홍콩 HKD', 167.71), ('대만 TWD', 42.99), ('영국 GBP', 1621.27), ('오만 OMR', 3419.57), ('캐나다 CAD', 975.55), ('스위스 CHF', 1433.16), ('스웨덴 SEK', 126.74), ('호주 AUD', 881.4), ('뉴질랜드 NZD', 820.25), ('체코 CZK', 60.78), ('칠레 CLP', 1.66), ('튀르키예 TRY', 68.56), ('몽골 MNT', 0.37), ('이스라엘 ILS', 366.0), ('덴마크 DKK', 191.5), ('노르웨이 NOK', 126.26), ('사우디아라비아 SAR', 350.95), ('쿠웨이트 KWD', 4287.3), ('바레인 BHD', 3492.04), ('아랍에미리트 AED', 358.47), ('요르단 JOD', 1855.92), ('이집트 EGP', 42.54), ('태국 THB', 38.25), ('싱가포르 SGD', 988.18), ('말레이시아 MYR', 297.85), ('인도네시아 IDR 100', 8.81), ('카타르 QAR', 358.69), ('카자흐스탄 KZT', 2.91), ('브루나이 BND', 988.18), ('인도 INR', 15.98), ('파키스탄 PKR', 4.62), ('방글라데시 BDT', 12.5), ('필리핀 PHP', 24.06), ('멕시코 MXN', 73.15), ('브라질 BRL', 259.99), ('베트남 VND 100', 5.61), ('남아프리카 공화국 ZAR', 73.35), ('러시아 RUB', 16.94), ('헝가리 HUF', 3.75), ('폴란드 PLN', 304.99), ('스리랑카 LKR', 4.09), ('알제리 DZD', 9.68), ('케냐 KES', 9.94), ('콜롬비아 COP', 0.28), ('탄자니아 TZS', 0.56), ('네팔 NPR', 9.99), ('루마니아 RON', 288.65), ('리비아 LYD', 275.41), ('마카오 MOP', 162.83), ('미얀마 MMK', 0.63), ('에티오피아 ETB', 24.2), ('우즈베키스탄 UZS', 0.12), ('캄보디아 KHR', 0.32), ('피지 FJD', 595.19)]\n"
     ]
    }
   ],
   "source": [
    "# 환율 링크 불러오기\n",
    "url = 'https://finance.naver.com//marketindex/exchangeList.naver'\n",
    "r = requests.get(url).text\n",
    "soup = BeautifulSoup(r, 'lxml')\n",
    "name = [] #통화명\n",
    "price = [] #가격\n",
    "\n",
    "#통화명 가져오기\n",
    "data = soup.select('td.tit > a') #tit 아래있는 a태그\n",
    "# print(data)\n",
    "for item in data:\n",
    "    # print(item.string.strip()) # 공백제거해서 문자열 가져오기\n",
    "    name.append(item.string.strip())\n",
    "    \n",
    "#가격 가져오기\n",
    "data = soup.select('td.sale')\n",
    "#print(data)\n",
    "for item in data:\n",
    "    # print(item.string)\n",
    "    price.append(float(item.string.replace(',','')))\n",
    "# print(price)\n",
    "print(len(name),len(price))\n",
    "items = list(zip(name, price))\n",
    "print(items)"
   ]
  },
  {
   "cell_type": "code",
   "execution_count": null,
   "id": "4d71ae85-2cfb-4fe6-a7b8-4881d28a83b2",
   "metadata": {},
   "outputs": [],
   "source": []
  }
 ],
 "metadata": {
  "kernelspec": {
   "display_name": "Python 3 (ipykernel)",
   "language": "python",
   "name": "python3"
  },
  "language_info": {
   "codemirror_mode": {
    "name": "ipython",
    "version": 3
   },
   "file_extension": ".py",
   "mimetype": "text/x-python",
   "name": "python",
   "nbconvert_exporter": "python",
   "pygments_lexer": "ipython3",
   "version": "3.11.1"
  }
 },
 "nbformat": 4,
 "nbformat_minor": 5
}
