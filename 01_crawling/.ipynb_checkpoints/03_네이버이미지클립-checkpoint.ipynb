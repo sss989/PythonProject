{
 "cells": [
  {
   "cell_type": "markdown",
   "id": "9fb3fef6-4424-43d0-b6ac-aab905beffba",
   "metadata": {},
   "source": [
    "네이버 이미지에서 검색키워드를 입력받아서 검색한 다음 이미지 결과에서 이미지를 10개정도 다운로드 받아서 img폴더에 저장하세요."
   ]
  },
  {
   "cell_type": "code",
   "execution_count": 4,
   "id": "5b4993d4-52f4-4bd3-9249-f0d832b95618",
   "metadata": {
    "tags": []
   },
   "outputs": [],
   "source": [
    "from urllib import request"
   ]
  },
  {
   "cell_type": "code",
   "execution_count": 5,
   "id": "465ae072-cd3f-41c6-a92a-4d301dfc4e19",
   "metadata": {
    "tags": []
   },
   "outputs": [],
   "source": [
    "url = 'https://search.pstatic.net/common/?src=http%3A%2F%2Fblogfiles.naver.net%2FMjAyMzAzMTVfMTkg%2FMDAxNjc4ODExNzA2MTAz.mKHznNWCoa_iK90vEJ_g7z5hJr_SeAjar7spgj1XHIog.FuJFebHTFfsoyFlNUDu4zuUTvpgiuCLNgptW57xKJ5wg.JPEG.ttunyo0005%2F700469343.845415.jpg&type=sc960_832'\n",
    "savename = 'img_1.jpg'"
   ]
  },
  {
   "cell_type": "code",
   "execution_count": 6,
   "id": "2c1b2aad-4fed-41dd-8fc4-8d7184c9bf4a",
   "metadata": {
    "tags": []
   },
   "outputs": [
    {
     "data": {
      "text/plain": [
       "('img_1.jpg', <http.client.HTTPMessage at 0x2124d549cd0>)"
      ]
     },
     "execution_count": 6,
     "metadata": {},
     "output_type": "execute_result"
    }
   ],
   "source": [
    "request.urlretrieve(url,savename)"
   ]
  },
  {
   "cell_type": "code",
   "execution_count": 7,
   "id": "90874b85-ae63-499a-a925-65dd2c2e4987",
   "metadata": {
    "tags": []
   },
   "outputs": [],
   "source": [
    "url=\"https://search.pstatic.net/common/?src=http%3A%2F%2Fblogfiles.naver.net%2FMjAyMzAzMTVfMjE5%2FMDAxNjc4ODU5ODQxMjA0.jzhWx49e2I20swN2E5kjoehhQfc_A76quaMJ4zM98Log.TB8s9xLJ8_qY9Wu7xq4SnleCYJH0yB_9MoU47N8GxG4g.JPEG.qkr11422%2F20230315%25A3%25DF141203.jpg&type=ofullfill340_600_png\"\n",
    "savename = 'img_2.jpg'\n",
    "\n",
    "request.urlretrieve(url,savename)"
   ]
  },
  {
   "cell_type": "code",
   "execution_count": 10,
   "id": "0f021501-5d0b-43d1-9052-3fa94c3efb77",
   "metadata": {
    "tags": []
   },
   "outputs": [
    {
     "data": {
      "text/plain": [
       "('img_3.jpg', <http.client.HTTPMessage at 0x2124d547310>)"
      ]
     },
     "execution_count": 10,
     "metadata": {},
     "output_type": "execute_result"
    }
   ],
   "source": [
    "url = 'https://search.pstatic.net/common/?src=http%3A%2F%2Fblogfiles.naver.net%2FMjAyMzAzMDFfMTkw%2FMDAxNjc3NTk4Mjg5MDMz.iZyaS2c3gtI8MJpMc6sV8rS1GsdM_xWGrWzQFtMcSeYg.67ZLJmKuj5hluVjsg6XrR4wdm3MXLx_cSx5xRYfHIbcg.JPEG.wittysu%2FKakaoTalk_20230224_005436076_01.jpg&type=a340'\n",
    "savename = 'img_3.jpg'\n",
    "request.urlretrieve(url,savename)"
   ]
  },
  {
   "cell_type": "code",
   "execution_count": 11,
   "id": "c6daa479-b711-4faf-8faf-399e30d980fd",
   "metadata": {
    "tags": []
   },
   "outputs": [
    {
     "data": {
      "text/plain": [
       "('img_4.jpg', <http.client.HTTPMessage at 0x2124da62dd0>)"
      ]
     },
     "execution_count": 11,
     "metadata": {},
     "output_type": "execute_result"
    }
   ],
   "source": [
    "url = 'https://search.pstatic.net/common/?src=http%3A%2F%2Fblogfiles.naver.net%2FMjAyMzAzMDFfMTkw%2FMDAxNjc3NTk4Mjg5MDMz.iZyaS2c3gtI8MJpMc6sV8rS1GsdM_xWGrWzQFtMcSeYg.67ZLJmKuj5hluVjsg6XrR4wdm3MXLx_cSx5xRYfHIbcg.JPEG.wittysu%2FKakaoTalk_20230224_005436076_01.jpg&type=a340'\n",
    "savename = 'img_4.jpg'\n",
    "request.urlretrieve(url,savename)"
   ]
  },
  {
   "cell_type": "code",
   "execution_count": 12,
   "id": "007bd40c-3b63-457a-9b7a-22aa0abae5a3",
   "metadata": {
    "tags": []
   },
   "outputs": [
    {
     "data": {
      "text/plain": [
       "('img_5.jpg', <http.client.HTTPMessage at 0x2124da639d0>)"
      ]
     },
     "execution_count": 12,
     "metadata": {},
     "output_type": "execute_result"
    }
   ],
   "source": [
    "url = 'https://search.pstatic.net/common/?src=http%3A%2F%2Fblogfiles.naver.net%2FMjAyMzAyMTBfMTky%2FMDAxNjc2MDE2NDcwMjIw.Fr1bsLfG5F4y4y43pG9mslx4H0NC8td7Y3rnHrgnv1Qg.3yFm-xTgWr-jRDkjEvzbVWgw4Dxk23hcuVM0WOMetSwg.JPEG.akflwjdgus%2FIMG_5720.JPG&type=a340'\n",
    "savename = 'img_5.jpg'\n",
    "request.urlretrieve(url,savename)"
   ]
  },
  {
   "cell_type": "code",
   "execution_count": 13,
   "id": "830e5ea2-abe1-490e-a2d9-0c399369e75f",
   "metadata": {
    "tags": []
   },
   "outputs": [
    {
     "data": {
      "text/plain": [
       "('img_6.jpg', <http.client.HTTPMessage at 0x2124da230d0>)"
      ]
     },
     "execution_count": 13,
     "metadata": {},
     "output_type": "execute_result"
    }
   ],
   "source": [
    "url = 'https://search.pstatic.net/common/?src=http%3A%2F%2Fblogfiles.naver.net%2FMjAyMzAzMDVfMjg3%2FMDAxNjc4MDI0NzQxNDIx.fbO__yN6PNxbZJ4lRPUBFBmL2EanOZ7yRB4cYiOw54Ig.Ow6XIRSpGeyw3HlrRxrDSJ31-nw7TlMiKIv1AupulaEg.JPEG.murray93%2FIMG_0076.JPG&type=a340'\n",
    "savename = 'img_6.jpg'\n",
    "request.urlretrieve(url,savename)"
   ]
  },
  {
   "cell_type": "code",
   "execution_count": 14,
   "id": "4180ceac-a731-4b46-acbd-ca6366b827c5",
   "metadata": {
    "tags": []
   },
   "outputs": [
    {
     "data": {
      "text/plain": [
       "('img_7.jpg', <http.client.HTTPMessage at 0x2124da22350>)"
      ]
     },
     "execution_count": 14,
     "metadata": {},
     "output_type": "execute_result"
    }
   ],
   "source": [
    "url = 'https://search.pstatic.net/common/?src=http%3A%2F%2Fblogfiles.naver.net%2FMjAyMzAzMDdfOCAg%2FMDAxNjc4MTYwNTczMTc2.GqxS_7zS-GQWnd4wBYd8XBeqAYCi2GUf73kcmRxFePAg.FBwUvpIrr_xPxmwds4PZFWrz1FPhgCZJH3A6hJG42jgg.JPEG.gus09145%2F%25C4%25AB%25C4%25AB%25BF%25C0%25BD%25BA%25C5%25E4%25B8%25AE_2023_03_04_10_01_17.jpg&type=a340'\n",
    "savename = 'img_7.jpg'\n",
    "request.urlretrieve(url,savename)"
   ]
  },
  {
   "cell_type": "code",
   "execution_count": 16,
   "id": "9fd77fa8-a1de-4886-be82-c58fe74da3ca",
   "metadata": {
    "tags": []
   },
   "outputs": [
    {
     "data": {
      "text/plain": [
       "('img_8.jpg', <http.client.HTTPMessage at 0x2124da22e90>)"
      ]
     },
     "execution_count": 16,
     "metadata": {},
     "output_type": "execute_result"
    }
   ],
   "source": [
    "url = 'https://search.pstatic.net/sunny/?src=https%3A%2F%2Fthumb2.gettyimageskorea.com%2Fimage_preview%2F700%2F202209%2FMBI%2FMZLND22000021.jpg&type=sc960_832'\n",
    "savename='img_8.jpg'\n",
    "request.urlretrieve(url,savename)"
   ]
  },
  {
   "cell_type": "code",
   "execution_count": 18,
   "id": "634a5c60-a949-442d-801c-694bd6fcac55",
   "metadata": {
    "tags": []
   },
   "outputs": [
    {
     "data": {
      "text/plain": [
       "('img_9.jpg', <http.client.HTTPMessage at 0x2124da29690>)"
      ]
     },
     "execution_count": 18,
     "metadata": {},
     "output_type": "execute_result"
    }
   ],
   "source": [
    "url = 'https://search.pstatic.net/common/?src=http%3A%2F%2Fimgnews.naver.net%2Fimage%2F032%2F2023%2F03%2F14%2F0003210804_003_20230314182201205.jpg&type=sc960_832'\n",
    "savename='img_9.jpg'\n",
    "request.urlretrieve(url,savename)"
   ]
  },
  {
   "cell_type": "code",
   "execution_count": 19,
   "id": "fbb8f318-3d3b-460d-8a97-f0e1f1d3dce0",
   "metadata": {
    "tags": []
   },
   "outputs": [
    {
     "data": {
      "text/plain": [
       "('img_10.jpg', <http.client.HTTPMessage at 0x2124da314d0>)"
      ]
     },
     "execution_count": 19,
     "metadata": {},
     "output_type": "execute_result"
    }
   ],
   "source": [
    "url = 'https://search.pstatic.net/common/?src=http%3A%2F%2Fblogfiles.naver.net%2FMjAyMzAyMTZfMzMg%2FMDAxNjc2NDgyNTg5ODU2.rFUyCQJ4h3MYQQxcXFJ2nuC5MzdxBNBNOhHaqViXPPMg.ZdodfsTIpdNQKczb8KqEZL6YQHHENXEUSSNKVWJ7j3sg.JPEG.shinhwalbara%2F4D3D1B1E-CB8D-4FB1-8F31-1EA5666A2912.jpeg&type=sc960_832'\n",
    "savename='img_10.jpg'\n",
    "request.urlretrieve(url,savename)"
   ]
  },
  {
   "cell_type": "code",
   "execution_count": 25,
   "id": "c95fc6bf-64f3-4018-b147-aba62e0626d2",
   "metadata": {
    "tags": []
   },
   "outputs": [],
   "source": [
    "import requests\n",
    "from urllib import request\n",
    "from bs4 import BeautifulSoup"
   ]
  },
  {
   "cell_type": "code",
   "execution_count": 26,
   "id": "605a2efe-206e-462a-a91f-15f719932f34",
   "metadata": {
    "tags": []
   },
   "outputs": [],
   "source": [
    "#https://search.naver.com/search.naver?sm=tab_hty.top&where=image&query=%EB%B4%84&oquery=%EB%B4%84&tqi=iupWqsprvmZssQIuL%2FCssssssVC-151326"
   ]
  },
  {
   "cell_type": "code",
   "execution_count": null,
   "id": "fdccc72d-0341-4a93-add7-b43961e92389",
   "metadata": {},
   "outputs": [],
   "source": []
  }
 ],
 "metadata": {
  "kernelspec": {
   "display_name": "Python 3 (ipykernel)",
   "language": "python",
   "name": "python3"
  },
  "language_info": {
   "codemirror_mode": {
    "name": "ipython",
    "version": 3
   },
   "file_extension": ".py",
   "mimetype": "text/x-python",
   "name": "python",
   "nbconvert_exporter": "python",
   "pygments_lexer": "ipython3",
   "version": "3.11.1"
  }
 },
 "nbformat": 4,
 "nbformat_minor": 5
}
