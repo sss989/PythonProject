{
 "cells": [
  {
   "cell_type": "code",
   "execution_count": 1,
   "id": "3ac1d97b-8ee9-4f99-bd70-db0d283b00a0",
   "metadata": {
    "tags": []
   },
   "outputs": [],
   "source": [
    "from urllib import request\n",
    "from bs4 import BeautifulSoup"
   ]
  },
  {
   "cell_type": "code",
   "execution_count": 4,
   "id": "ea87cd4f-d08b-48b5-9cd5-db716f9b0ae3",
   "metadata": {
    "tags": []
   },
   "outputs": [
    {
     "name": "stdout",
     "output_type": "stream",
     "text": [
      "[<ul class=\"quickSearchResultBox\">\n",
      "</ul>]\n"
     ]
    }
   ],
   "source": [
    "url = 'https://www.starbucks.co.kr/store/store_map.do'\n",
    "r = request.urlopen(url)\n",
    "soup = BeautifulSoup(r, 'lxml')\n",
    "# print(soup)\n",
    "print(soup.select('ul.quickSearchResultBox'))"
   ]
  },
  {
   "cell_type": "code",
   "execution_count": 5,
   "id": "93e4c1f5-f870-4cf2-bc76-bd33c4b48784",
   "metadata": {
    "tags": []
   },
   "outputs": [
    {
     "name": "stdout",
     "output_type": "stream",
     "text": [
      "Collecting selenium\n",
      "  Downloading selenium-4.8.3-py3-none-any.whl (6.5 MB)\n",
      "     ---------------------------------------- 0.0/6.5 MB ? eta -:--:--\n",
      "     -- ------------------------------------- 0.3/6.5 MB 7.0 MB/s eta 0:00:01\n",
      "     ---- ----------------------------------- 0.8/6.5 MB 8.5 MB/s eta 0:00:01\n",
      "     -------- ------------------------------- 1.3/6.5 MB 9.4 MB/s eta 0:00:01\n",
      "     ---------- ----------------------------- 1.8/6.5 MB 9.5 MB/s eta 0:00:01\n",
      "     ------------- -------------------------- 2.1/6.5 MB 9.7 MB/s eta 0:00:01\n",
      "     --------------- ------------------------ 2.5/6.5 MB 8.8 MB/s eta 0:00:01\n",
      "     ----------------- ---------------------- 2.9/6.5 MB 8.8 MB/s eta 0:00:01\n",
      "     -------------------- ------------------- 3.4/6.5 MB 9.3 MB/s eta 0:00:01\n",
      "     ----------------------- ---------------- 3.8/6.5 MB 9.3 MB/s eta 0:00:01\n",
      "     ------------------------- -------------- 4.2/6.5 MB 9.3 MB/s eta 0:00:01\n",
      "     ---------------------------- ----------- 4.6/6.5 MB 9.2 MB/s eta 0:00:01\n",
      "     ------------------------------ --------- 5.0/6.5 MB 9.2 MB/s eta 0:00:01\n",
      "     ---------------------------------- ----- 5.7/6.5 MB 9.5 MB/s eta 0:00:01\n",
      "     -------------------------------------- - 6.2/6.5 MB 9.7 MB/s eta 0:00:01\n",
      "     ---------------------------------------- 6.5/6.5 MB 9.5 MB/s eta 0:00:00\n",
      "Requirement already satisfied: urllib3[socks]~=1.26 in c:\\users\\admin\\appdata\\local\\programs\\python\\python311\\lib\\site-packages (from selenium) (1.26.14)\n",
      "Collecting trio~=0.17\n",
      "  Downloading trio-0.22.0-py3-none-any.whl (384 kB)\n",
      "     ---------------------------------------- 0.0/384.9 kB ? eta -:--:--\n",
      "     ------------------------------------- 384.9/384.9 kB 12.1 MB/s eta 0:00:00\n",
      "Collecting trio-websocket~=0.9\n",
      "  Downloading trio_websocket-0.10.2-py3-none-any.whl (17 kB)\n",
      "Requirement already satisfied: certifi>=2021.10.8 in c:\\users\\admin\\appdata\\local\\programs\\python\\python311\\lib\\site-packages (from selenium) (2022.12.7)\n",
      "Requirement already satisfied: attrs>=19.2.0 in c:\\users\\admin\\appdata\\local\\programs\\python\\python311\\lib\\site-packages (from trio~=0.17->selenium) (22.2.0)\n",
      "Collecting sortedcontainers\n",
      "  Downloading sortedcontainers-2.4.0-py2.py3-none-any.whl (29 kB)\n",
      "Collecting async-generator>=1.9\n",
      "  Downloading async_generator-1.10-py3-none-any.whl (18 kB)\n",
      "Requirement already satisfied: idna in c:\\users\\admin\\appdata\\local\\programs\\python\\python311\\lib\\site-packages (from trio~=0.17->selenium) (3.4)\n",
      "Collecting outcome\n",
      "  Downloading outcome-1.2.0-py2.py3-none-any.whl (9.7 kB)\n",
      "Requirement already satisfied: sniffio in c:\\users\\admin\\appdata\\local\\programs\\python\\python311\\lib\\site-packages (from trio~=0.17->selenium) (1.3.0)\n",
      "Requirement already satisfied: cffi>=1.14 in c:\\users\\admin\\appdata\\local\\programs\\python\\python311\\lib\\site-packages (from trio~=0.17->selenium) (1.15.1)\n",
      "Collecting exceptiongroup\n",
      "  Downloading exceptiongroup-1.1.1-py3-none-any.whl (14 kB)\n",
      "Collecting wsproto>=0.14\n",
      "  Downloading wsproto-1.2.0-py3-none-any.whl (24 kB)\n",
      "Collecting PySocks!=1.5.7,<2.0,>=1.5.6\n",
      "  Downloading PySocks-1.7.1-py3-none-any.whl (16 kB)\n",
      "Requirement already satisfied: pycparser in c:\\users\\admin\\appdata\\local\\programs\\python\\python311\\lib\\site-packages (from cffi>=1.14->trio~=0.17->selenium) (2.21)\n",
      "Collecting h11<1,>=0.9.0\n",
      "  Downloading h11-0.14.0-py3-none-any.whl (58 kB)\n",
      "     ---------------------------------------- 0.0/58.3 kB ? eta -:--:--\n",
      "     ---------------------------- ----------- 41.0/58.3 kB ? eta -:--:--\n",
      "     -------------------------------------- 58.3/58.3 kB 762.2 kB/s eta 0:00:00\n",
      "Installing collected packages: sortedcontainers, PySocks, outcome, h11, exceptiongroup, async-generator, wsproto, trio, trio-websocket, selenium\n",
      "Successfully installed PySocks-1.7.1 async-generator-1.10 exceptiongroup-1.1.1 h11-0.14.0 outcome-1.2.0 selenium-4.8.3 sortedcontainers-2.4.0 trio-0.22.0 trio-websocket-0.10.2 wsproto-1.2.0\n"
     ]
    }
   ],
   "source": [
    "!pip install selenium"
   ]
  },
  {
   "cell_type": "code",
   "execution_count": 6,
   "id": "05b26cc5-5954-4725-a2e5-741b3341ccdf",
   "metadata": {
    "tags": []
   },
   "outputs": [],
   "source": [
    "from selenium import webdriver\n",
    "import time"
   ]
  },
  {
   "cell_type": "code",
   "execution_count": 10,
   "id": "1d9138cb-396a-456d-b153-99df11b1a0d9",
   "metadata": {
    "tags": []
   },
   "outputs": [
    {
     "name": "stdout",
     "output_type": "stream",
     "text": [
      "[<ul class=\"quickSearchResultBox\"><li class=\"quickResultLstCon\" data-code=\"9879\" data-hlytag=\"null\" data-index=\"0\" data-lat=\"35.162722\" data-long=\"126.810218\" data-name=\"광주하남\" data-storecd=\"684\" style=\"background:#fff\"> <strong data-my_siren_order_store_yn=\"N\" data-name=\"광주하남\" data-store=\"684\" data-yn=\"N\">광주하남  </strong> <p class=\"result_details\">광주광역시 광산구 사암로216번길 38-16, 1~2층 (우산동)<br/>1522-3232</p> <i class=\"pin_general\">리저브 매장 2번</i></li><li class=\"quickResultLstCon\" data-code=\"3757\" data-hlytag=\"null\" data-index=\"1\" data-lat=\"35.146768\" data-long=\"126.77772\" data-name=\"광주선운DT\" data-storecd=\"1635\" style=\"background:#fff\"> <strong data-my_siren_order_store_yn=\"N\" data-name=\"광주선운DT\" data-store=\"1635\" data-yn=\"N\">광주선운DT  </strong> <p class=\"result_details\">광주광역시 광산구 선운로 20번길 63 <br/>1522-3232</p> <i class=\"pin_generalDT\">리저브 매장 2번</i></li><li class=\"quickResultLstCon\" data-code=\"3595\" data-hlytag=\"null\" data-index=\"2\" data-lat=\"35.173524\" data-long=\"126.804191\" data-name=\"광주산정DT\" data-storecd=\"1421\" style=\"background:#fff\"> <strong data-my_siren_order_store_yn=\"N\" data-name=\"광주산정DT\" data-store=\"1421\" data-yn=\"N\">광주산정DT  </strong> <p class=\"result_details\">광주광역시 광산구 용아로 342 (산정동)<br/>1522-3232</p> <i class=\"pin_generalDT\">리저브 매장 2번</i></li><li class=\"quickResultLstCon\" data-code=\"3363\" data-hlytag=\"null\" data-index=\"3\" data-lat=\"35.138026\" data-long=\"126.791444\" data-name=\"광주송정역\" data-storecd=\"1161\" style=\"background:#fff\"> <strong data-my_siren_order_store_yn=\"N\" data-name=\"광주송정역\" data-store=\"1161\" data-yn=\"N\">광주송정역  </strong> <p class=\"result_details\">광주광역시 광산구 상무대로205번길 6 (송정동)<br/>1522-3232</p> <i class=\"pin_general\">리저브 매장 2번</i></li><li class=\"quickResultLstCon\" data-code=\"4314\" data-hlytag=\"null\" data-index=\"4\" data-lat=\"35.137191435617\" data-long=\"126.791658278605\" data-name=\"광주송정로\" data-storecd=\"2023\" style=\"background:#fff\"> <strong data-my_siren_order_store_yn=\"N\" data-name=\"광주송정로\" data-store=\"2023\" data-yn=\"N\">광주송정로  </strong> <p class=\"result_details\">광주광역시 광산구 상무대로 202 (송정동)<br/>1522-3232</p> <i class=\"pin_general\">리저브 매장 2번</i></li><li class=\"quickResultLstCon\" data-code=\"3446\" data-hlytag=\"null\" data-index=\"5\" data-lat=\"35.176936\" data-long=\"126.807887\" data-name=\"광주흑석DT\" data-storecd=\"1252\" style=\"background:#fff\"> <strong data-my_siren_order_store_yn=\"N\" data-name=\"광주흑석DT\" data-store=\"1252\" data-yn=\"N\">광주흑석DT  </strong> <p class=\"result_details\">광주광역시 광산구 사암로 367 (산정동)<br/>1522-3232</p> <i class=\"pin_generalDT\">리저브 매장 2번</i></li><li class=\"quickResultLstCon\" data-code=\"3621\" data-hlytag=\"null\" data-index=\"6\" data-lat=\"35.175136\" data-long=\"126.818062\" data-name=\"광주운남DT\" data-storecd=\"1440\" style=\"background:#fff\"> <strong data-my_siren_order_store_yn=\"N\" data-name=\"광주운남DT\" data-store=\"1440\" data-yn=\"N\">광주운남DT  </strong> <p class=\"result_details\">광주광역시 광산구 임방울대로 156 (운남동)<br/>1522-3232</p> <i class=\"pin_generalDT\">리저브 매장 2번</i></li><li class=\"quickResultLstCon\" data-code=\"3055\" data-hlytag=\"null\" data-index=\"7\" data-lat=\"35.1790467\" data-long=\"126.8301259\" data-name=\"광주신가DT\" data-storecd=\"878\" style=\"background:#fff\"> <strong data-my_siren_order_store_yn=\"N\" data-name=\"광주신가DT\" data-store=\"878\" data-yn=\"N\">광주신가DT  </strong> <p class=\"result_details\">광주광역시 광산구 목련로 335 (신가동)<br/>1522-3232</p> <i class=\"pin_generalDT\">리저브 매장 2번</i></li><li class=\"quickResultLstCon\" data-code=\"9906\" data-hlytag=\"null\" data-index=\"8\" data-lat=\"35.191469\" data-long=\"126.819259\" data-name=\"광주장덕\" data-storecd=\"713\" style=\"background:#fff\"> <strong data-my_siren_order_store_yn=\"N\" data-name=\"광주장덕\" data-store=\"713\" data-yn=\"N\">광주장덕  </strong> <p class=\"result_details\">광주광역시 광산구 장신로 85 (장덕동)<br/>1522-3232</p> <i class=\"pin_general\">리저브 매장 2번</i></li><li class=\"quickResultLstCon\" data-code=\"9584\" data-hlytag=\"null\" data-index=\"9\" data-lat=\"35.190397\" data-long=\"126.824804\" data-name=\"광산수완\" data-storecd=\"379\" style=\"background:#fff\"> <strong data-my_siren_order_store_yn=\"N\" data-name=\"광산수완\" data-store=\"379\" data-yn=\"N\">광산수완  </strong> <p class=\"result_details\">광주광역시 광산구 장신로 134, 1~2층 (수완동)<br/>1522-3232</p> <i class=\"pin_general\">리저브 매장 2번</i></li></ul>]\n"
     ]
    }
   ],
   "source": [
    "driver = webdriver.Chrome()\n",
    "driver.get(url)\n",
    "time.sleep(5)\n",
    "\n",
    "page = driver.page_source\n",
    "soup = BeautifulSoup(page, 'lxml')\n",
    "print(soup.select('ul.quickSearchResultBox'))"
   ]
  },
  {
   "cell_type": "code",
   "execution_count": null,
   "id": "5bc4d9dc-7613-4c85-bbd6-62586b32b1fd",
   "metadata": {},
   "outputs": [],
   "source": []
  }
 ],
 "metadata": {
  "kernelspec": {
   "display_name": "Python 3 (ipykernel)",
   "language": "python",
   "name": "python3"
  },
  "language_info": {
   "codemirror_mode": {
    "name": "ipython",
    "version": 3
   },
   "file_extension": ".py",
   "mimetype": "text/x-python",
   "name": "python",
   "nbconvert_exporter": "python",
   "pygments_lexer": "ipython3",
   "version": "3.11.1"
  }
 },
 "nbformat": 4,
 "nbformat_minor": 5
}
